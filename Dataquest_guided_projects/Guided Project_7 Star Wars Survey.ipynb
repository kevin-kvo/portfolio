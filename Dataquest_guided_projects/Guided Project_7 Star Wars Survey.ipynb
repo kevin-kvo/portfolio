{
 "cells": [
  {
   "cell_type": "code",
   "execution_count": 1,
   "metadata": {
    "collapsed": false
   },
   "outputs": [],
   "source": [
    "import pandas as pd\n",
    "star_wars = pd.read_csv('star_wars.csv', encoding='ISO-8859-1')\n",
    "star_wars = star_wars[pd.notnull(star_wars['RespondentID'])]\n"
   ]
  },
  {
   "cell_type": "code",
   "execution_count": 2,
   "metadata": {
    "collapsed": false
   },
   "outputs": [
    {
     "name": "stdout",
     "output_type": "stream",
     "text": [
      "True     936\n",
      "False    250\n",
      "Name: Have you seen any of the 6 films in the Star Wars franchise?, dtype: int64\n",
      "True     552\n",
      "False    284\n",
      "Name: Do you consider yourself to be a fan of the Star Wars film franchise?, dtype: int64\n"
     ]
    }
   ],
   "source": [
    "yes_no = {\n",
    "    'Yes': True,\n",
    "    'No': False\n",
    "}\n",
    "\n",
    "questions = ['Have you seen any of the 6 films in the Star Wars franchise?', 'Do you consider yourself to be a fan of the Star Wars film franchise?']\n",
    "\n",
    "for x in questions:\n",
    "    star_wars[x] = star_wars[x].map(yes_no)\n",
    "    print (star_wars[x].value_counts())"
   ]
  },
  {
   "cell_type": "code",
   "execution_count": 3,
   "metadata": {
    "collapsed": false
   },
   "outputs": [],
   "source": [
    "import numpy as np\n",
    "\n",
    "moviemappings={\n",
    "    'Star Wars: Episode I  The Phantom Menace': True, \n",
    "    'Star Wars: Episode II  Attack of the Clones': True,\n",
    "    'Star Wars: Episode III  Revenge of the Sith': True,\n",
    "    'Star Wars: Episode IV  A New Hope': True,\n",
    "    'Star Wars: Episode V The Empire Strikes Back': True,\n",
    "    'Star Wars: Episode VI Return of the Jedi': True,\n",
    "    np.NaN: False\n",
    "}\n",
    "\n",
    "for x in star_wars.columns[3:9]:\n",
    "    star_wars[x] = star_wars[x].map(moviemappings) \n"
   ]
  },
  {
   "cell_type": "code",
   "execution_count": 4,
   "metadata": {
    "collapsed": false
   },
   "outputs": [
    {
     "name": "stdout",
     "output_type": "stream",
     "text": [
      "   RespondentID Have you seen any of the 6 films in the Star Wars franchise?  \\\n",
      "1  3.292880e+09                                               True             \n",
      "2  3.292880e+09                                              False             \n",
      "3  3.292765e+09                                               True             \n",
      "4  3.292763e+09                                               True             \n",
      "5  3.292731e+09                                               True             \n",
      "\n",
      "  Do you consider yourself to be a fan of the Star Wars film franchise?  \\\n",
      "1                                               True                      \n",
      "2                                                NaN                      \n",
      "3                                              False                      \n",
      "4                                               True                      \n",
      "5                                               True                      \n",
      "\n",
      "  seen_1 seen_2 seen_3 seen_4 seen_5 seen_6  \\\n",
      "1   True   True   True   True   True   True   \n",
      "2  False  False  False  False  False  False   \n",
      "3   True   True   True  False  False  False   \n",
      "4   True   True   True   True   True   True   \n",
      "5   True   True   True   True   True   True   \n",
      "\n",
      "  Please rank the Star Wars films in order of preference with 1 being your favorite film in the franchise and 6 being your least favorite film.  \\\n",
      "1                                                  3                                                                                              \n",
      "2                                                NaN                                                                                              \n",
      "3                                                  1                                                                                              \n",
      "4                                                  5                                                                                              \n",
      "5                                                  5                                                                                              \n",
      "\n",
      "            ...                    Unnamed: 28  \\\n",
      "1           ...                 Very favorably   \n",
      "2           ...                            NaN   \n",
      "3           ...               Unfamiliar (N/A)   \n",
      "4           ...                 Very favorably   \n",
      "5           ...             Somewhat favorably   \n",
      "\n",
      "        Which character shot first?  \\\n",
      "1  I don't understand this question   \n",
      "2                               NaN   \n",
      "3  I don't understand this question   \n",
      "4  I don't understand this question   \n",
      "5                            Greedo   \n",
      "\n",
      "  Are you familiar with the Expanded Universe?  \\\n",
      "1                                          Yes   \n",
      "2                                          NaN   \n",
      "3                                           No   \n",
      "4                                           No   \n",
      "5                                          Yes   \n",
      "\n",
      "  Do you consider yourself to be a fan of the Expanded Universe?ÂÃ¦  \\\n",
      "1                                                 No                   \n",
      "2                                                NaN                   \n",
      "3                                                NaN                   \n",
      "4                                                NaN                   \n",
      "5                                                 No                   \n",
      "\n",
      "  Do you consider yourself to be a fan of the Star Trek franchise? Gender  \\\n",
      "1                                                 No                 Male   \n",
      "2                                                Yes                 Male   \n",
      "3                                                 No                 Male   \n",
      "4                                                Yes                 Male   \n",
      "5                                                 No                 Male   \n",
      "\n",
      "     Age     Household Income                         Education  \\\n",
      "1  18-29                  NaN                High school degree   \n",
      "2  18-29         $0 - $24,999                   Bachelor degree   \n",
      "3  18-29         $0 - $24,999                High school degree   \n",
      "4  18-29  $100,000 - $149,999  Some college or Associate degree   \n",
      "5  18-29  $100,000 - $149,999  Some college or Associate degree   \n",
      "\n",
      "  Location (Census Region)  \n",
      "1           South Atlantic  \n",
      "2       West South Central  \n",
      "3       West North Central  \n",
      "4       West North Central  \n",
      "5       West North Central  \n",
      "\n",
      "[5 rows x 38 columns]\n"
     ]
    }
   ],
   "source": [
    "star_wars = star_wars.rename(columns={\n",
    "        \"Which of the following Star Wars films have you seen? Please select all that apply.\": \"seen_1\",\n",
    "        \"Unnamed: 4\": \"seen_2\",\n",
    "        \"Unnamed: 5\": \"seen_3\",\n",
    "        \"Unnamed: 6\": \"seen_4\",\n",
    "        \"Unnamed: 7\": \"seen_5\",\n",
    "        \"Unnamed: 8\": \"seen_6\"\n",
    "        })\n",
    "\n",
    "print (star_wars.head())"
   ]
  },
  {
   "cell_type": "code",
   "execution_count": 5,
   "metadata": {
    "collapsed": false
   },
   "outputs": [
    {
     "name": "stdout",
     "output_type": "stream",
     "text": [
      "   RespondentID Have you seen any of the 6 films in the Star Wars franchise?  \\\n",
      "1  3.292880e+09                                               True             \n",
      "2  3.292880e+09                                              False             \n",
      "3  3.292765e+09                                               True             \n",
      "4  3.292763e+09                                               True             \n",
      "5  3.292731e+09                                               True             \n",
      "\n",
      "  Do you consider yourself to be a fan of the Star Wars film franchise?  \\\n",
      "1                                               True                      \n",
      "2                                                NaN                      \n",
      "3                                              False                      \n",
      "4                                               True                      \n",
      "5                                               True                      \n",
      "\n",
      "  seen_1 seen_2 seen_3 seen_4 seen_5 seen_6  ranking_1  \\\n",
      "1   True   True   True   True   True   True        3.0   \n",
      "2  False  False  False  False  False  False        NaN   \n",
      "3   True   True   True  False  False  False        1.0   \n",
      "4   True   True   True   True   True   True        5.0   \n",
      "5   True   True   True   True   True   True        5.0   \n",
      "\n",
      "            ...                    Unnamed: 28  \\\n",
      "1           ...                 Very favorably   \n",
      "2           ...                            NaN   \n",
      "3           ...               Unfamiliar (N/A)   \n",
      "4           ...                 Very favorably   \n",
      "5           ...             Somewhat favorably   \n",
      "\n",
      "        Which character shot first?  \\\n",
      "1  I don't understand this question   \n",
      "2                               NaN   \n",
      "3  I don't understand this question   \n",
      "4  I don't understand this question   \n",
      "5                            Greedo   \n",
      "\n",
      "   Are you familiar with the Expanded Universe?  \\\n",
      "1                                           Yes   \n",
      "2                                           NaN   \n",
      "3                                            No   \n",
      "4                                            No   \n",
      "5                                           Yes   \n",
      "\n",
      "   Do you consider yourself to be a fan of the Expanded Universe?ÂÃ¦  \\\n",
      "1                                                 No                    \n",
      "2                                                NaN                    \n",
      "3                                                NaN                    \n",
      "4                                                NaN                    \n",
      "5                                                 No                    \n",
      "\n",
      "   Do you consider yourself to be a fan of the Star Trek franchise? Gender  \\\n",
      "1                                                 No                  Male   \n",
      "2                                                Yes                  Male   \n",
      "3                                                 No                  Male   \n",
      "4                                                Yes                  Male   \n",
      "5                                                 No                  Male   \n",
      "\n",
      "     Age     Household Income                         Education  \\\n",
      "1  18-29                  NaN                High school degree   \n",
      "2  18-29         $0 - $24,999                   Bachelor degree   \n",
      "3  18-29         $0 - $24,999                High school degree   \n",
      "4  18-29  $100,000 - $149,999  Some college or Associate degree   \n",
      "5  18-29  $100,000 - $149,999  Some college or Associate degree   \n",
      "\n",
      "  Location (Census Region)  \n",
      "1           South Atlantic  \n",
      "2       West South Central  \n",
      "3       West North Central  \n",
      "4       West North Central  \n",
      "5       West North Central  \n",
      "\n",
      "[5 rows x 38 columns]\n"
     ]
    }
   ],
   "source": [
    "star_wars[star_wars.columns[9:15]] = star_wars[star_wars.columns[9:15]].astype(float)\n",
    "\n",
    "star_wars = star_wars.rename(columns={\n",
    "        \"Please rank the Star Wars films in order of preference with 1 being your favorite film in the franchise and 6 being your least favorite film.\": \"ranking_1\",\n",
    "        \"Unnamed: 10\": \"ranking_2\",\n",
    "        \"Unnamed: 11\": \"ranking_3\",\n",
    "        \"Unnamed: 12\": \"ranking_4\",\n",
    "        \"Unnamed: 13\": \"ranking_5\",\n",
    "        \"Unnamed: 14\": \"ranking_6\"\n",
    "        })\n",
    "\n",
    "print (star_wars.head())"
   ]
  },
  {
   "cell_type": "code",
   "execution_count": 9,
   "metadata": {
    "collapsed": false
   },
   "outputs": [
    {
     "name": "stdout",
     "output_type": "stream",
     "text": [
      "ranking_1    3.732934\n",
      "ranking_2    4.087321\n",
      "ranking_3    4.341317\n",
      "ranking_4    3.272727\n",
      "ranking_5    2.513158\n",
      "ranking_6    3.047847\n",
      "dtype: float64\n"
     ]
    }
   ],
   "source": [
    "avg_ranking = star_wars[star_wars.columns[9:15]].mean()\n",
    "print (avg_ranking)"
   ]
  },
  {
   "cell_type": "code",
   "execution_count": 10,
   "metadata": {
    "collapsed": false
   },
   "outputs": [
    {
     "data": {
      "image/png": "[encoded data removed]",
      "text/plain": [
       "<matplotlib.figure.Figure at 0x7f490a3d1710>"
      ]
     },
     "metadata": {},
     "output_type": "display_data"
    }
   ],
   "source": [
    "%matplotlib inline\n",
    "import matplotlib.pyplot as plt\n",
    "\n",
    "avg_ranking.plot(kind='bar')\n",
    "plt.show()"
   ]
  },
  {
   "cell_type": "markdown",
   "metadata": {},
   "source": [
    "In this graph, lower on the Y-Axis is better. Ranking 1-3 are a part of the prequel trilogy and ranking 4-6 belong to the original trilogy. Unsurprisingly, the original trilogy ranked higher in the survey than the prequels. "
   ]
  },
  {
   "cell_type": "code",
   "execution_count": 11,
   "metadata": {
    "collapsed": false
   },
   "outputs": [
    {
     "name": "stdout",
     "output_type": "stream",
     "text": [
      "seen_1    673\n",
      "seen_2    571\n",
      "seen_3    550\n",
      "seen_4    607\n",
      "seen_5    758\n",
      "seen_6    738\n",
      "dtype: int64\n"
     ]
    }
   ],
   "source": [
    "totalwatched = star_wars[star_wars.columns[3:9]].sum()\n",
    "print (totalwatched)"
   ]
  },
  {
   "cell_type": "code",
   "execution_count": 12,
   "metadata": {
    "collapsed": false
   },
   "outputs": [
    {
     "data": {
      "text/plain": [
       "<matplotlib.axes._subplots.AxesSubplot at 0x7f490a09f978>"
      ]
     },
     "execution_count": 12,
     "metadata": {},
     "output_type": "execute_result"
    },
    {
     "data": {
      "image/png": "[encoded data removed]",
      "text/plain": [
       "<matplotlib.figure.Figure at 0x7f48be8ec9e8>"
      ]
     },
     "metadata": {},
     "output_type": "display_data"
    }
   ],
   "source": [
    "totalwatched.plot(kind='bar')"
   ]
  },
  {
   "cell_type": "markdown",
   "metadata": {},
   "source": [
    "This reinforces the results we got previously where the original trilogy got higher ratings, as more people watched the original trilogy."
   ]
  },
  {
   "cell_type": "code",
   "execution_count": 18,
   "metadata": {
    "collapsed": false
   },
   "outputs": [
    {
     "data": {
      "text/plain": [
       "<matplotlib.axes._subplots.AxesSubplot at 0x7f4909f637b8>"
      ]
     },
     "execution_count": 18,
     "metadata": {},
     "output_type": "execute_result"
    },
    {
     "data": {
      "image/png": "[encoded data removed]",
      "text/plain": [
       "<matplotlib.figure.Figure at 0x7f490a080c18>"
      ]
     },
     "metadata": {},
     "output_type": "display_data"
    }
   ],
   "source": [
    "males = star_wars[star_wars['Gender'] == 'Male']\n",
    "females = star_wars[star_wars['Gender'] == 'Female']\n",
    "\n",
    "males_avg_ranking = males[males.columns[9:15]].mean()\n",
    "males_avg_ranking.plot(kind='bar', title='male avg rank')\n"
   ]
  },
  {
   "cell_type": "code",
   "execution_count": 17,
   "metadata": {
    "collapsed": false
   },
   "outputs": [
    {
     "data": {
      "text/plain": [
       "<matplotlib.axes._subplots.AxesSubplot at 0x7f4909f0fa58>"
      ]
     },
     "execution_count": 17,
     "metadata": {},
     "output_type": "execute_result"
    },
    {
     "data": {
      "image/png": "[encoded data removed]",
      "text/plain": [
       "<matplotlib.figure.Figure at 0x7f4909f67c18>"
      ]
     },
     "metadata": {},
     "output_type": "display_data"
    }
   ],
   "source": [
    "females_avg_ranking = females[females.columns[9:15]].mean()\n",
    "females_avg_ranking.plot(kind='bar', title='female avg rank')\n"
   ]
  },
  {
   "cell_type": "code",
   "execution_count": null,
   "metadata": {
    "collapsed": true
   },
   "outputs": [],
   "source": [
    "males_watched = males[males.columns[3:9]].mean()\n",
    "males_watched.plot(kind='bar', title='male count of films watched')"
   ]
  }
 ],
 "metadata": {
  "kernelspec": {
   "display_name": "Python 3",
   "language": "python",
   "name": "python3"
  },
  "language_info": {
   "codemirror_mode": {
    "name": "ipython",
    "version": 3
   },
   "file_extension": ".py",
   "mimetype": "text/x-python",
   "name": "python",
   "nbconvert_exporter": "python",
   "pygments_lexer": "ipython3",
   "version": "3.4.3"
  }
 },
 "nbformat": 4,
 "nbformat_minor": 0
}
