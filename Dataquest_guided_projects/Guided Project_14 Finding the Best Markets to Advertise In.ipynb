{
 "cells": [
  {
   "cell_type": "markdown",
   "metadata": {},
   "source": [
    "# Guided Project: Finding the Best Markets to Advertise In\n",
    "\n",
    "In this guided project, we will assume a role in an e-learning company like Dataquest.io and try to find the two best markets to advertise our product in. Let's assume that most of our courses are on web and mobile development, but we also cover many other domains, like data science, game development, etc.\n",
    "\n",
    "Instead of going out and organizing surveys, which would be costly and time consuming, we will use data from [freeCodeCamp's 2017 New Coder Survey](https://github.com/freeCodeCamp/2017-new-coder-survey). This data is from a survey conducted by freeCodeCamp in 2016 from more than 15,000 respondents who are trying to learn how to program.  "
   ]
  },
  {
   "cell_type": "code",
   "execution_count": 1,
   "metadata": {
    "collapsed": false
   },
   "outputs": [
    {
     "data": {
      "text/html": [
       "<div>\n",
       "<style scoped>\n",
       "    .dataframe tbody tr th:only-of-type {\n",
       "        vertical-align: middle;\n",
       "    }\n",
       "\n",
       "    .dataframe tbody tr th {\n",
       "        vertical-align: top;\n",
       "    }\n",
       "\n",
       "    .dataframe thead th {\n",
       "        text-align: right;\n",
       "    }\n",
       "</style>\n",
       "<table border=\"1\" class=\"dataframe\">\n",
       "  <thead>\n",
       "    <tr style=\"text-align: right;\">\n",
       "      <th></th>\n",
       "      <th>Age</th>\n",
       "      <th>AttendedBootcamp</th>\n",
       "      <th>BootcampFinish</th>\n",
       "      <th>BootcampLoanYesNo</th>\n",
       "      <th>BootcampName</th>\n",
       "      <th>BootcampRecommend</th>\n",
       "      <th>ChildrenNumber</th>\n",
       "      <th>CityPopulation</th>\n",
       "      <th>CodeEventConferences</th>\n",
       "      <th>CodeEventDjangoGirls</th>\n",
       "      <th>...</th>\n",
       "      <th>YouTubeFCC</th>\n",
       "      <th>YouTubeFunFunFunction</th>\n",
       "      <th>YouTubeGoogleDev</th>\n",
       "      <th>YouTubeLearnCode</th>\n",
       "      <th>YouTubeLevelUpTuts</th>\n",
       "      <th>YouTubeMIT</th>\n",
       "      <th>YouTubeMozillaHacks</th>\n",
       "      <th>YouTubeOther</th>\n",
       "      <th>YouTubeSimplilearn</th>\n",
       "      <th>YouTubeTheNewBoston</th>\n",
       "    </tr>\n",
       "  </thead>\n",
       "  <tbody>\n",
       "    <tr>\n",
       "      <th>0</th>\n",
       "      <td>27.0</td>\n",
       "      <td>0.0</td>\n",
       "      <td>NaN</td>\n",
       "      <td>NaN</td>\n",
       "      <td>NaN</td>\n",
       "      <td>NaN</td>\n",
       "      <td>NaN</td>\n",
       "      <td>more than 1 million</td>\n",
       "      <td>NaN</td>\n",
       "      <td>NaN</td>\n",
       "      <td>...</td>\n",
       "      <td>NaN</td>\n",
       "      <td>NaN</td>\n",
       "      <td>NaN</td>\n",
       "      <td>NaN</td>\n",
       "      <td>NaN</td>\n",
       "      <td>NaN</td>\n",
       "      <td>NaN</td>\n",
       "      <td>NaN</td>\n",
       "      <td>NaN</td>\n",
       "      <td>NaN</td>\n",
       "    </tr>\n",
       "    <tr>\n",
       "      <th>1</th>\n",
       "      <td>34.0</td>\n",
       "      <td>0.0</td>\n",
       "      <td>NaN</td>\n",
       "      <td>NaN</td>\n",
       "      <td>NaN</td>\n",
       "      <td>NaN</td>\n",
       "      <td>NaN</td>\n",
       "      <td>less than 100,000</td>\n",
       "      <td>NaN</td>\n",
       "      <td>NaN</td>\n",
       "      <td>...</td>\n",
       "      <td>1.0</td>\n",
       "      <td>NaN</td>\n",
       "      <td>NaN</td>\n",
       "      <td>NaN</td>\n",
       "      <td>NaN</td>\n",
       "      <td>NaN</td>\n",
       "      <td>NaN</td>\n",
       "      <td>NaN</td>\n",
       "      <td>NaN</td>\n",
       "      <td>NaN</td>\n",
       "    </tr>\n",
       "    <tr>\n",
       "      <th>2</th>\n",
       "      <td>21.0</td>\n",
       "      <td>0.0</td>\n",
       "      <td>NaN</td>\n",
       "      <td>NaN</td>\n",
       "      <td>NaN</td>\n",
       "      <td>NaN</td>\n",
       "      <td>NaN</td>\n",
       "      <td>more than 1 million</td>\n",
       "      <td>NaN</td>\n",
       "      <td>NaN</td>\n",
       "      <td>...</td>\n",
       "      <td>NaN</td>\n",
       "      <td>NaN</td>\n",
       "      <td>NaN</td>\n",
       "      <td>1.0</td>\n",
       "      <td>1.0</td>\n",
       "      <td>NaN</td>\n",
       "      <td>NaN</td>\n",
       "      <td>NaN</td>\n",
       "      <td>NaN</td>\n",
       "      <td>NaN</td>\n",
       "    </tr>\n",
       "    <tr>\n",
       "      <th>3</th>\n",
       "      <td>26.0</td>\n",
       "      <td>0.0</td>\n",
       "      <td>NaN</td>\n",
       "      <td>NaN</td>\n",
       "      <td>NaN</td>\n",
       "      <td>NaN</td>\n",
       "      <td>NaN</td>\n",
       "      <td>between 100,000 and 1 million</td>\n",
       "      <td>NaN</td>\n",
       "      <td>NaN</td>\n",
       "      <td>...</td>\n",
       "      <td>1.0</td>\n",
       "      <td>1.0</td>\n",
       "      <td>NaN</td>\n",
       "      <td>NaN</td>\n",
       "      <td>1.0</td>\n",
       "      <td>NaN</td>\n",
       "      <td>NaN</td>\n",
       "      <td>NaN</td>\n",
       "      <td>NaN</td>\n",
       "      <td>NaN</td>\n",
       "    </tr>\n",
       "    <tr>\n",
       "      <th>4</th>\n",
       "      <td>20.0</td>\n",
       "      <td>0.0</td>\n",
       "      <td>NaN</td>\n",
       "      <td>NaN</td>\n",
       "      <td>NaN</td>\n",
       "      <td>NaN</td>\n",
       "      <td>NaN</td>\n",
       "      <td>between 100,000 and 1 million</td>\n",
       "      <td>NaN</td>\n",
       "      <td>NaN</td>\n",
       "      <td>...</td>\n",
       "      <td>NaN</td>\n",
       "      <td>NaN</td>\n",
       "      <td>NaN</td>\n",
       "      <td>NaN</td>\n",
       "      <td>NaN</td>\n",
       "      <td>NaN</td>\n",
       "      <td>NaN</td>\n",
       "      <td>NaN</td>\n",
       "      <td>NaN</td>\n",
       "      <td>NaN</td>\n",
       "    </tr>\n",
       "  </tbody>\n",
       "</table>\n",
       "<p>5 rows × 136 columns</p>\n",
       "</div>"
      ],
      "text/plain": [
       "    Age  AttendedBootcamp  BootcampFinish  BootcampLoanYesNo BootcampName  \\\n",
       "0  27.0               0.0             NaN                NaN          NaN   \n",
       "1  34.0               0.0             NaN                NaN          NaN   \n",
       "2  21.0               0.0             NaN                NaN          NaN   \n",
       "3  26.0               0.0             NaN                NaN          NaN   \n",
       "4  20.0               0.0             NaN                NaN          NaN   \n",
       "\n",
       "   BootcampRecommend  ChildrenNumber                 CityPopulation  \\\n",
       "0                NaN             NaN            more than 1 million   \n",
       "1                NaN             NaN              less than 100,000   \n",
       "2                NaN             NaN            more than 1 million   \n",
       "3                NaN             NaN  between 100,000 and 1 million   \n",
       "4                NaN             NaN  between 100,000 and 1 million   \n",
       "\n",
       "   CodeEventConferences  CodeEventDjangoGirls         ...           \\\n",
       "0                   NaN                   NaN         ...            \n",
       "1                   NaN                   NaN         ...            \n",
       "2                   NaN                   NaN         ...            \n",
       "3                   NaN                   NaN         ...            \n",
       "4                   NaN                   NaN         ...            \n",
       "\n",
       "   YouTubeFCC  YouTubeFunFunFunction  YouTubeGoogleDev  YouTubeLearnCode  \\\n",
       "0         NaN                    NaN               NaN               NaN   \n",
       "1         1.0                    NaN               NaN               NaN   \n",
       "2         NaN                    NaN               NaN               1.0   \n",
       "3         1.0                    1.0               NaN               NaN   \n",
       "4         NaN                    NaN               NaN               NaN   \n",
       "\n",
       "   YouTubeLevelUpTuts  YouTubeMIT  YouTubeMozillaHacks  YouTubeOther  \\\n",
       "0                 NaN         NaN                  NaN           NaN   \n",
       "1                 NaN         NaN                  NaN           NaN   \n",
       "2                 1.0         NaN                  NaN           NaN   \n",
       "3                 1.0         NaN                  NaN           NaN   \n",
       "4                 NaN         NaN                  NaN           NaN   \n",
       "\n",
       "   YouTubeSimplilearn  YouTubeTheNewBoston  \n",
       "0                 NaN                  NaN  \n",
       "1                 NaN                  NaN  \n",
       "2                 NaN                  NaN  \n",
       "3                 NaN                  NaN  \n",
       "4                 NaN                  NaN  \n",
       "\n",
       "[5 rows x 136 columns]"
      ]
     },
     "execution_count": 1,
     "metadata": {},
     "output_type": "execute_result"
    }
   ],
   "source": [
    "import pandas as pd\n",
    "import matplotlib.pyplot as plt\n",
    "%matplotlib inline\n",
    "plt.style.use('ggplot')\n",
    "data = pd.read_csv('2017-fCC-New-Coders-Survey-Data.csv')\n",
    "data.head()"
   ]
  },
  {
   "cell_type": "markdown",
   "metadata": {},
   "source": [
    "## Is this a good source of data?\n",
    "\n",
    "In terms of advertising, it is important to know some things about potential customers. Things such as where are the areas with the greatest number of people who would use your service and how much would they potentially spend. These are important to maximize efficiency. It is also important to know if the data you are analyzing pertains to customers that you are trying to advertise to.  "
   ]
  },
  {
   "cell_type": "code",
   "execution_count": 2,
   "metadata": {
    "collapsed": false
   },
   "outputs": [
    {
     "name": "stdout",
     "output_type": "stream",
     "text": [
      "Full-Stack Web Developer                                                                                                                                                                                                                               12.015810\n",
      "  Front-End Web Developer                                                                                                                                                                                                                               4.426877\n",
      "  Data Scientist                                                                                                                                                                                                                                        2.371542\n",
      "  Mobile Developer                                                                                                                                                                                                                                      1.660079\n",
      "Back-End Web Developer                                                                                                                                                                                                                                  1.581028\n",
      "Full-Stack Web Developer,   Front-End Web Developer                                                                                                                                                                                                     1.264822\n",
      "  Front-End Web Developer, Full-Stack Web Developer                                                                                                                                                                                                     1.106719\n",
      "  Product Manager                                                                                                                                                                                                                                       1.106719\n",
      "Data Engineer                                                                                                                                                                                                                                           1.027668\n",
      "Information Security                                                                                                                                                                                                                                    0.948617\n",
      "  Front-End Web Developer, Back-End Web Developer, Full-Stack Web Developer                                                                                                                                                                             0.948617\n",
      "Back-End Web Developer, Full-Stack Web Developer                                                                                                                                                                                                        0.948617\n",
      "  User Experience Designer                                                                                                                                                                                                                              0.790514\n",
      "Back-End Web Developer, Full-Stack Web Developer,   Front-End Web Developer                                                                                                                                                                             0.790514\n",
      "  User Experience Designer,   Front-End Web Developer                                                                                                                                                                                                   0.790514\n",
      "Game Developer                                                                                                                                                                                                                                          0.711462\n",
      "Back-End Web Developer,   Front-End Web Developer, Full-Stack Web Developer                                                                                                                                                                             0.632411\n",
      "Full-Stack Web Developer, Back-End Web Developer                                                                                                                                                                                                        0.632411\n",
      "  Front-End Web Developer, Full-Stack Web Developer, Back-End Web Developer                                                                                                                                                                             0.474308\n",
      "  Front-End Web Developer,   User Experience Designer                                                                                                                                                                                                   0.474308\n",
      "Data Engineer,   Data Scientist                                                                                                                                                                                                                         0.395257\n",
      "  Data Scientist, Full-Stack Web Developer                                                                                                                                                                                                              0.395257\n",
      "  DevOps / SysAdmin                                                                                                                                                                                                                                     0.395257\n",
      "Full-Stack Web Developer,   Mobile Developer                                                                                                                                                                                                            0.395257\n",
      "Back-End Web Developer,   Front-End Web Developer                                                                                                                                                                                                       0.395257\n",
      "  Front-End Web Developer, Full-Stack Web Developer,   Mobile Developer                                                                                                                                                                                 0.395257\n",
      "  User Experience Designer, Full-Stack Web Developer,   Front-End Web Developer                                                                                                                                                                         0.316206\n",
      "Full-Stack Web Developer, Information Security                                                                                                                                                                                                          0.316206\n",
      "Full-Stack Web Developer,   Mobile Developer,   Front-End Web Developer                                                                                                                                                                                 0.316206\n",
      "Full-Stack Web Developer,   Front-End Web Developer, Back-End Web Developer                                                                                                                                                                             0.316206\n",
      "                                                                                                                                                                                                                                                         ...    \n",
      "Game Developer,   Mobile Developer                                                                                                                                                                                                                      0.079051\n",
      "  Mobile Developer, Back-End Web Developer, Information Security,   Front-End Web Developer                                                                                                                                                             0.079051\n",
      "  User Experience Designer, Game Developer, Back-End Web Developer,   Front-End Web Developer, Full-Stack Web Developer                                                                                                                                 0.079051\n",
      "  DevOps / SysAdmin, Information Security,   Front-End Web Developer,   Mobile Developer, Back-End Web Developer, Full-Stack Web Developer                                                                                                              0.079051\n",
      "Data Engineer,   DevOps / SysAdmin                                                                                                                                                                                                                      0.079051\n",
      "  User Experience Designer, Full-Stack Web Developer,   Mobile Developer, Data Engineer, Back-End Web Developer                                                                                                                                         0.079051\n",
      "Back-End Web Developer, Full-Stack Web Developer,   Product Manager,   Front-End Web Developer,   Data Scientist,   User Experience Designer,   Mobile Developer                                                                                        0.079051\n",
      "Back-End Web Developer,   User Experience Designer, Full-Stack Web Developer, Information Security,   DevOps / SysAdmin,   Data Scientist, Data Engineer,   Front-End Web Developer, Game Developer,   Mobile Developer                                 0.079051\n",
      "Data Engineer, Full-Stack Web Developer, Information Security,   DevOps / SysAdmin, Back-End Web Developer                                                                                                                                              0.079051\n",
      "Data Engineer,   Mobile Developer, Full-Stack Web Developer, Back-End Web Developer,   Front-End Web Developer                                                                                                                                          0.079051\n",
      "Back-End Web Developer, Full-Stack Web Developer, Information Security, Game Developer,   Mobile Developer                                                                                                                                              0.079051\n",
      "Back-End Web Developer,   Front-End Web Developer, Data Engineer, Full-Stack Web Developer                                                                                                                                                              0.079051\n",
      "  Data Scientist, Information Security, Full-Stack Web Developer, Data Engineer                                                                                                                                                                         0.079051\n",
      "  Data Scientist, Game Developer,   Mobile Developer,   User Experience Designer, Full-Stack Web Developer,   Front-End Web Developer, Back-End Web Developer                                                                                           0.079051\n",
      "  Mobile Developer, Full-Stack Web Developer,   Front-End Web Developer                                                                                                                                                                                 0.079051\n",
      "  Product Manager,   DevOps / SysAdmin, Full-Stack Web Developer, Back-End Web Developer                                                                                                                                                                0.079051\n",
      "  Mobile Developer, Full-Stack Web Developer,   User Experience Designer, Back-End Web Developer, Game Developer,   Front-End Web Developer                                                                                                             0.079051\n",
      "  Front-End Web Developer, Information Security, Back-End Web Developer,   DevOps / SysAdmin,   User Experience Designer, Full-Stack Web Developer                                                                                                      0.079051\n",
      "  Quality Assurance Engineer,   User Experience Designer,   Front-End Web Developer, Back-End Web Developer                                                                                                                                             0.079051\n",
      "  Mobile Developer,   Product Manager,   Front-End Web Developer, Back-End Web Developer, Full-Stack Web Developer,   Data Scientist, Game Developer,   Quality Assurance Engineer,   User Experience Designer, Information Security, Data Engineer     0.079051\n",
      "Back-End Web Developer,   Mobile Developer, Full-Stack Web Developer                                                                                                                                                                                    0.079051\n",
      "  Mobile Developer,   Front-End Web Developer,   User Experience Designer                                                                                                                                                                               0.079051\n",
      "Full-Stack Web Developer,   Data Scientist, Game Developer,   Quality Assurance Engineer,   Front-End Web Developer                                                                                                                                     0.079051\n",
      "Information Security,   Mobile Developer, Full-Stack Web Developer, Back-End Web Developer                                                                                                                                                              0.079051\n",
      "Full-Stack Web Developer, Back-End Web Developer,   Front-End Web Developer,   User Experience Designer                                                                                                                                                 0.079051\n",
      "  Front-End Web Developer, Full-Stack Web Developer,   Mobile Developer, Information Security                                                                                                                                                           0.079051\n",
      "  Mobile Developer, Back-End Web Developer, Full-Stack Web Developer,   Data Scientist                                                                                                                                                                  0.079051\n",
      "  Mobile Developer, Information Security, Back-End Web Developer,   Front-End Web Developer, Game Developer,   User Experience Designer                                                                                                                 0.079051\n",
      "Data Engineer,   Front-End Web Developer,   Mobile Developer,   Data Scientist                                                                                                                                                                          0.079051\n",
      "  Front-End Web Developer, Back-End Web Developer,   Quality Assurance Engineer, Full-Stack Web Developer,   Product Manager                                                                                                                            0.079051\n",
      "Name: JobRoleInterest, Length: 732, dtype: float64\n"
     ]
    }
   ],
   "source": [
    "jri_freq = data['JobRoleInterest'].value_counts(normalize=True)*100\n",
    "print(jri_freq)"
   ]
  },
  {
   "cell_type": "markdown",
   "metadata": {
    "collapsed": true
   },
   "source": [
    "We can see that 12% of respondents want to be Full-Stack Web Developers, followed by 4.4% that want to be Front-End Web Developers, and 2.4% want to be data scientists. There are very few responses interested in other roles outside of web and mobile developers.\n",
    "\n",
    "The frequency distribution chart above is very long, 732 entries in fact. This is due to the fact that each respondent can choose more than one choice in what job roles they have interest for. For example one respondent can choose just 'Full-Stack Web Developer' as a job they are interested in, another can choose 'Full-Stack Web Developer' and 'Mobile Developer', another can choose 3 different jobs they are interested in, in different combinations. So it is best to reduce these into number of job roles selected rather than full titles. "
   ]
  },
  {
   "cell_type": "code",
   "execution_count": 3,
   "metadata": {
    "collapsed": false
   },
   "outputs": [
    {
     "data": {
      "text/plain": [
       "1     27.272727\n",
       "2     12.569170\n",
       "3     18.023715\n",
       "4     16.521739\n",
       "5     12.332016\n",
       "6      6.719368\n",
       "7      3.320158\n",
       "8      1.185771\n",
       "9      1.106719\n",
       "10     0.474308\n",
       "11     0.237154\n",
       "12     0.237154\n",
       "Name: JobRoleInterest, dtype: float64"
      ]
     },
     "execution_count": 3,
     "metadata": {},
     "output_type": "execute_result"
    }
   ],
   "source": [
    "interests_no_nulls = data['JobRoleInterest'].dropna()\n",
    "splitted_interests = interests_no_nulls.str.split(',')\n",
    "\n",
    "n_of_options = splitted_interests.apply(lambda x: len(x)) \n",
    "n_of_options.value_counts(normalize = True).sort_index() * 100"
   ]
  },
  {
   "cell_type": "markdown",
   "metadata": {},
   "source": [
    "Based on this new frequency chart, approximately 27.3 percent of respondents have a clear idea of what job roles they want. However, as our fictional business offer courses predominately in web and mobile development, we should check how many responses include web or mobile developement. "
   ]
  },
  {
   "cell_type": "code",
   "execution_count": 4,
   "metadata": {
    "collapsed": false
   },
   "outputs": [
    {
     "name": "stdout",
     "output_type": "stream",
     "text": [
      "True     87.98419\n",
      "False    12.01581\n",
      "Name: JobRoleInterest, dtype: float64\n"
     ]
    },
    {
     "data": {
      "image/png": "[encoded data removed]",
      "text/plain": [
       "<matplotlib.figure.Figure at 0x7f2397b15d68>"
      ]
     },
     "metadata": {},
     "output_type": "display_data"
    }
   ],
   "source": [
    "web_or_mobile = interests_no_nulls.str.contains(\n",
    "    'Web Developer|Mobile Developer') # returns an array of booleans\n",
    "freq_table = web_or_mobile.value_counts(normalize = True) * 100\n",
    "print(freq_table)\n",
    "\n",
    "freq_table.plot.bar()\n",
    "freq_table.plot.bar()\n",
    "plt.title('Most Participants are Interested in \\nWeb or Mobile Development', y = 1.10)\n",
    "plt.ylabel('Percentage', fontsize = 12)\n",
    "plt.xticks([0,1],['Web or mobile\\ndevelopment', 'Other subject'], rotation = 0) \n",
    "plt.ylim([0,100])\n",
    "plt.show()"
   ]
  },
  {
   "cell_type": "markdown",
   "metadata": {},
   "source": [
    "As we can see about 88% of the respondents are interested in either web or mobile development. Since we are trying to find out information that would help us advertise to people who are trying to be web or mobile developers (our population of interest), this data is a good sample of the people we are trying to reach.  \n"
   ]
  },
  {
   "cell_type": "markdown",
   "metadata": {},
   "source": [
    "## Getting what we need from the data.\n",
    "\n",
    "As said before, to know where and how much to allocate resources to advertise, we need to know: \n",
    "* Where potential customers are located.\n",
    "* Where are there the greatest amount of potential customers located.\n",
    "* How much they are willing to spend, so we can price accordingly."
   ]
  },
  {
   "cell_type": "code",
   "execution_count": 5,
   "metadata": {
    "collapsed": false
   },
   "outputs": [
    {
     "data": {
      "text/html": [
       "<div>\n",
       "<style scoped>\n",
       "    .dataframe tbody tr th:only-of-type {\n",
       "        vertical-align: middle;\n",
       "    }\n",
       "\n",
       "    .dataframe tbody tr th {\n",
       "        vertical-align: top;\n",
       "    }\n",
       "\n",
       "    .dataframe thead th {\n",
       "        text-align: right;\n",
       "    }\n",
       "</style>\n",
       "<table border=\"1\" class=\"dataframe\">\n",
       "  <thead>\n",
       "    <tr style=\"text-align: right;\">\n",
       "      <th></th>\n",
       "      <th>Absolute Frequency</th>\n",
       "      <th>Percentage</th>\n",
       "    </tr>\n",
       "  </thead>\n",
       "  <tbody>\n",
       "    <tr>\n",
       "      <th>United States of America</th>\n",
       "      <td>620</td>\n",
       "      <td>50.000000</td>\n",
       "    </tr>\n",
       "    <tr>\n",
       "      <th>India</th>\n",
       "      <td>105</td>\n",
       "      <td>8.467742</td>\n",
       "    </tr>\n",
       "    <tr>\n",
       "      <th>United Kingdom</th>\n",
       "      <td>64</td>\n",
       "      <td>5.161290</td>\n",
       "    </tr>\n",
       "    <tr>\n",
       "      <th>Canada</th>\n",
       "      <td>49</td>\n",
       "      <td>3.951613</td>\n",
       "    </tr>\n",
       "    <tr>\n",
       "      <th>Germany</th>\n",
       "      <td>26</td>\n",
       "      <td>2.096774</td>\n",
       "    </tr>\n",
       "    <tr>\n",
       "      <th>Poland</th>\n",
       "      <td>24</td>\n",
       "      <td>1.935484</td>\n",
       "    </tr>\n",
       "    <tr>\n",
       "      <th>Brazil</th>\n",
       "      <td>23</td>\n",
       "      <td>1.854839</td>\n",
       "    </tr>\n",
       "    <tr>\n",
       "      <th>Australia</th>\n",
       "      <td>19</td>\n",
       "      <td>1.532258</td>\n",
       "    </tr>\n",
       "    <tr>\n",
       "      <th>Romania</th>\n",
       "      <td>14</td>\n",
       "      <td>1.129032</td>\n",
       "    </tr>\n",
       "    <tr>\n",
       "      <th>Russia</th>\n",
       "      <td>13</td>\n",
       "      <td>1.048387</td>\n",
       "    </tr>\n",
       "    <tr>\n",
       "      <th>Italy</th>\n",
       "      <td>12</td>\n",
       "      <td>0.967742</td>\n",
       "    </tr>\n",
       "    <tr>\n",
       "      <th>France</th>\n",
       "      <td>11</td>\n",
       "      <td>0.887097</td>\n",
       "    </tr>\n",
       "    <tr>\n",
       "      <th>Spain</th>\n",
       "      <td>11</td>\n",
       "      <td>0.887097</td>\n",
       "    </tr>\n",
       "    <tr>\n",
       "      <th>Netherlands (Holland, Europe)</th>\n",
       "      <td>10</td>\n",
       "      <td>0.806452</td>\n",
       "    </tr>\n",
       "    <tr>\n",
       "      <th>Belgium</th>\n",
       "      <td>9</td>\n",
       "      <td>0.725806</td>\n",
       "    </tr>\n",
       "    <tr>\n",
       "      <th>Serbia</th>\n",
       "      <td>9</td>\n",
       "      <td>0.725806</td>\n",
       "    </tr>\n",
       "    <tr>\n",
       "      <th>Mexico</th>\n",
       "      <td>9</td>\n",
       "      <td>0.725806</td>\n",
       "    </tr>\n",
       "    <tr>\n",
       "      <th>Turkey</th>\n",
       "      <td>8</td>\n",
       "      <td>0.645161</td>\n",
       "    </tr>\n",
       "    <tr>\n",
       "      <th>New Zealand</th>\n",
       "      <td>8</td>\n",
       "      <td>0.645161</td>\n",
       "    </tr>\n",
       "    <tr>\n",
       "      <th>Sweden</th>\n",
       "      <td>8</td>\n",
       "      <td>0.645161</td>\n",
       "    </tr>\n",
       "    <tr>\n",
       "      <th>Argentina</th>\n",
       "      <td>7</td>\n",
       "      <td>0.564516</td>\n",
       "    </tr>\n",
       "    <tr>\n",
       "      <th>Bosnia &amp; Herzegovina</th>\n",
       "      <td>7</td>\n",
       "      <td>0.564516</td>\n",
       "    </tr>\n",
       "    <tr>\n",
       "      <th>Singapore</th>\n",
       "      <td>7</td>\n",
       "      <td>0.564516</td>\n",
       "    </tr>\n",
       "    <tr>\n",
       "      <th>Philippines</th>\n",
       "      <td>7</td>\n",
       "      <td>0.564516</td>\n",
       "    </tr>\n",
       "    <tr>\n",
       "      <th>Nigeria</th>\n",
       "      <td>6</td>\n",
       "      <td>0.483871</td>\n",
       "    </tr>\n",
       "    <tr>\n",
       "      <th>Ukraine</th>\n",
       "      <td>6</td>\n",
       "      <td>0.483871</td>\n",
       "    </tr>\n",
       "    <tr>\n",
       "      <th>Greece</th>\n",
       "      <td>6</td>\n",
       "      <td>0.483871</td>\n",
       "    </tr>\n",
       "    <tr>\n",
       "      <th>Portugal</th>\n",
       "      <td>6</td>\n",
       "      <td>0.483871</td>\n",
       "    </tr>\n",
       "    <tr>\n",
       "      <th>Ireland</th>\n",
       "      <td>6</td>\n",
       "      <td>0.483871</td>\n",
       "    </tr>\n",
       "    <tr>\n",
       "      <th>China</th>\n",
       "      <td>5</td>\n",
       "      <td>0.403226</td>\n",
       "    </tr>\n",
       "    <tr>\n",
       "      <th>...</th>\n",
       "      <td>...</td>\n",
       "      <td>...</td>\n",
       "    </tr>\n",
       "    <tr>\n",
       "      <th>Thailand</th>\n",
       "      <td>2</td>\n",
       "      <td>0.161290</td>\n",
       "    </tr>\n",
       "    <tr>\n",
       "      <th>Ghana</th>\n",
       "      <td>2</td>\n",
       "      <td>0.161290</td>\n",
       "    </tr>\n",
       "    <tr>\n",
       "      <th>Great Britain</th>\n",
       "      <td>2</td>\n",
       "      <td>0.161290</td>\n",
       "    </tr>\n",
       "    <tr>\n",
       "      <th>Belarus</th>\n",
       "      <td>2</td>\n",
       "      <td>0.161290</td>\n",
       "    </tr>\n",
       "    <tr>\n",
       "      <th>Taiwan</th>\n",
       "      <td>2</td>\n",
       "      <td>0.161290</td>\n",
       "    </tr>\n",
       "    <tr>\n",
       "      <th>Georgia</th>\n",
       "      <td>2</td>\n",
       "      <td>0.161290</td>\n",
       "    </tr>\n",
       "    <tr>\n",
       "      <th>Pakistan</th>\n",
       "      <td>2</td>\n",
       "      <td>0.161290</td>\n",
       "    </tr>\n",
       "    <tr>\n",
       "      <th>Slovenia</th>\n",
       "      <td>1</td>\n",
       "      <td>0.080645</td>\n",
       "    </tr>\n",
       "    <tr>\n",
       "      <th>Cyprus</th>\n",
       "      <td>1</td>\n",
       "      <td>0.080645</td>\n",
       "    </tr>\n",
       "    <tr>\n",
       "      <th>Virgin Islands (USA)</th>\n",
       "      <td>1</td>\n",
       "      <td>0.080645</td>\n",
       "    </tr>\n",
       "    <tr>\n",
       "      <th>Iceland</th>\n",
       "      <td>1</td>\n",
       "      <td>0.080645</td>\n",
       "    </tr>\n",
       "    <tr>\n",
       "      <th>Tunisia</th>\n",
       "      <td>1</td>\n",
       "      <td>0.080645</td>\n",
       "    </tr>\n",
       "    <tr>\n",
       "      <th>Honduras</th>\n",
       "      <td>1</td>\n",
       "      <td>0.080645</td>\n",
       "    </tr>\n",
       "    <tr>\n",
       "      <th>Kyrgyzstan</th>\n",
       "      <td>1</td>\n",
       "      <td>0.080645</td>\n",
       "    </tr>\n",
       "    <tr>\n",
       "      <th>Morocco</th>\n",
       "      <td>1</td>\n",
       "      <td>0.080645</td>\n",
       "    </tr>\n",
       "    <tr>\n",
       "      <th>Algeria</th>\n",
       "      <td>1</td>\n",
       "      <td>0.080645</td>\n",
       "    </tr>\n",
       "    <tr>\n",
       "      <th>Turkmenistan</th>\n",
       "      <td>1</td>\n",
       "      <td>0.080645</td>\n",
       "    </tr>\n",
       "    <tr>\n",
       "      <th>Guam</th>\n",
       "      <td>1</td>\n",
       "      <td>0.080645</td>\n",
       "    </tr>\n",
       "    <tr>\n",
       "      <th>Panama</th>\n",
       "      <td>1</td>\n",
       "      <td>0.080645</td>\n",
       "    </tr>\n",
       "    <tr>\n",
       "      <th>Senegal</th>\n",
       "      <td>1</td>\n",
       "      <td>0.080645</td>\n",
       "    </tr>\n",
       "    <tr>\n",
       "      <th>Bahrain</th>\n",
       "      <td>1</td>\n",
       "      <td>0.080645</td>\n",
       "    </tr>\n",
       "    <tr>\n",
       "      <th>Iraq</th>\n",
       "      <td>1</td>\n",
       "      <td>0.080645</td>\n",
       "    </tr>\n",
       "    <tr>\n",
       "      <th>Botswana</th>\n",
       "      <td>1</td>\n",
       "      <td>0.080645</td>\n",
       "    </tr>\n",
       "    <tr>\n",
       "      <th>Slovakia</th>\n",
       "      <td>1</td>\n",
       "      <td>0.080645</td>\n",
       "    </tr>\n",
       "    <tr>\n",
       "      <th>Albania</th>\n",
       "      <td>1</td>\n",
       "      <td>0.080645</td>\n",
       "    </tr>\n",
       "    <tr>\n",
       "      <th>Czech Republic</th>\n",
       "      <td>1</td>\n",
       "      <td>0.080645</td>\n",
       "    </tr>\n",
       "    <tr>\n",
       "      <th>Chile</th>\n",
       "      <td>1</td>\n",
       "      <td>0.080645</td>\n",
       "    </tr>\n",
       "    <tr>\n",
       "      <th>Haiti</th>\n",
       "      <td>1</td>\n",
       "      <td>0.080645</td>\n",
       "    </tr>\n",
       "    <tr>\n",
       "      <th>Jamaica</th>\n",
       "      <td>1</td>\n",
       "      <td>0.080645</td>\n",
       "    </tr>\n",
       "    <tr>\n",
       "      <th>Ecuador</th>\n",
       "      <td>1</td>\n",
       "      <td>0.080645</td>\n",
       "    </tr>\n",
       "  </tbody>\n",
       "</table>\n",
       "<p>89 rows × 2 columns</p>\n",
       "</div>"
      ],
      "text/plain": [
       "                               Absolute Frequency  Percentage\n",
       "United States of America                      620   50.000000\n",
       "India                                         105    8.467742\n",
       "United Kingdom                                 64    5.161290\n",
       "Canada                                         49    3.951613\n",
       "Germany                                        26    2.096774\n",
       "Poland                                         24    1.935484\n",
       "Brazil                                         23    1.854839\n",
       "Australia                                      19    1.532258\n",
       "Romania                                        14    1.129032\n",
       "Russia                                         13    1.048387\n",
       "Italy                                          12    0.967742\n",
       "France                                         11    0.887097\n",
       "Spain                                          11    0.887097\n",
       "Netherlands (Holland, Europe)                  10    0.806452\n",
       "Belgium                                         9    0.725806\n",
       "Serbia                                          9    0.725806\n",
       "Mexico                                          9    0.725806\n",
       "Turkey                                          8    0.645161\n",
       "New Zealand                                     8    0.645161\n",
       "Sweden                                          8    0.645161\n",
       "Argentina                                       7    0.564516\n",
       "Bosnia & Herzegovina                            7    0.564516\n",
       "Singapore                                       7    0.564516\n",
       "Philippines                                     7    0.564516\n",
       "Nigeria                                         6    0.483871\n",
       "Ukraine                                         6    0.483871\n",
       "Greece                                          6    0.483871\n",
       "Portugal                                        6    0.483871\n",
       "Ireland                                         6    0.483871\n",
       "China                                           5    0.403226\n",
       "...                                           ...         ...\n",
       "Thailand                                        2    0.161290\n",
       "Ghana                                           2    0.161290\n",
       "Great Britain                                   2    0.161290\n",
       "Belarus                                         2    0.161290\n",
       "Taiwan                                          2    0.161290\n",
       "Georgia                                         2    0.161290\n",
       "Pakistan                                        2    0.161290\n",
       "Slovenia                                        1    0.080645\n",
       "Cyprus                                          1    0.080645\n",
       "Virgin Islands (USA)                            1    0.080645\n",
       "Iceland                                         1    0.080645\n",
       "Tunisia                                         1    0.080645\n",
       "Honduras                                        1    0.080645\n",
       "Kyrgyzstan                                      1    0.080645\n",
       "Morocco                                         1    0.080645\n",
       "Algeria                                         1    0.080645\n",
       "Turkmenistan                                    1    0.080645\n",
       "Guam                                            1    0.080645\n",
       "Panama                                          1    0.080645\n",
       "Senegal                                         1    0.080645\n",
       "Bahrain                                         1    0.080645\n",
       "Iraq                                            1    0.080645\n",
       "Botswana                                        1    0.080645\n",
       "Slovakia                                        1    0.080645\n",
       "Albania                                         1    0.080645\n",
       "Czech Republic                                  1    0.080645\n",
       "Chile                                           1    0.080645\n",
       "Haiti                                           1    0.080645\n",
       "Jamaica                                         1    0.080645\n",
       "Ecuador                                         1    0.080645\n",
       "\n",
       "[89 rows x 2 columns]"
      ]
     },
     "execution_count": 5,
     "metadata": {},
     "output_type": "execute_result"
    }
   ],
   "source": [
    "data_good = data[data['JobRoleInterest'].notnull()].copy()\n",
    "\n",
    "absfreq = data_good['CountryLive'].value_counts()\n",
    "relfreq = data_good['CountryLive'].value_counts(normalize=True) * 100\n",
    "\n",
    "pd.DataFrame(data={'Absolute Frequency' : absfreq,\n",
    "                  'Percentage': relfreq})"
   ]
  },
  {
   "cell_type": "markdown",
   "metadata": {},
   "source": [
    "The top markets are:\n",
    "* The United States\n",
    "* India\n",
    "* The UK\n",
    "* Canada\n",
    "\n",
    "Now that we know where our potential customers are, we should find out how much they are willing to pay -- if they are willing to pay at all."
   ]
  },
  {
   "cell_type": "code",
   "execution_count": 6,
   "metadata": {
    "collapsed": false
   },
   "outputs": [
    {
     "data": {
      "text/plain": [
       "122"
      ]
     },
     "execution_count": 6,
     "metadata": {},
     "output_type": "execute_result"
    }
   ],
   "source": [
    "# Replace 0s to prevent dividing by 0\n",
    "data_good['MonthsProgramming'].replace(to_replace=0.0, value=1, inplace=True)\n",
    "\n",
    "data_good['SpentPerMonth'] = data_good['MoneyForLearning']/data_good['MonthsProgramming']\n",
    "\n",
    "data_good['SpentPerMonth'].isnull().sum()\n"
   ]
  },
  {
   "cell_type": "code",
   "execution_count": 7,
   "metadata": {
    "collapsed": false
   },
   "outputs": [
    {
     "data": {
      "text/plain": [
       "0"
      ]
     },
     "execution_count": 7,
     "metadata": {},
     "output_type": "execute_result"
    }
   ],
   "source": [
    "data_good2 = data_good[data_good['SpentPerMonth'].notnull()].copy()\n",
    "data_good2['SpentPerMonth'].isnull().sum()\n"
   ]
  },
  {
   "cell_type": "code",
   "execution_count": 8,
   "metadata": {
    "collapsed": false
   },
   "outputs": [
    {
     "data": {
      "text/plain": [
       "0"
      ]
     },
     "execution_count": 8,
     "metadata": {},
     "output_type": "execute_result"
    }
   ],
   "source": [
    "data_good3 = data_good2[data_good2['CountryLive'].notnull()].copy()\n",
    "data_good3['CountryLive'].isnull().sum()"
   ]
  },
  {
   "cell_type": "code",
   "execution_count": 9,
   "metadata": {
    "collapsed": false
   },
   "outputs": [
    {
     "data": {
      "text/plain": [
       "CountryLive\n",
       "United States of America    262.466988\n",
       "India                       119.467205\n",
       "United Kingdom               18.921319\n",
       "Canada                       35.808258\n",
       "Name: SpentPerMonth, dtype: float64"
      ]
     },
     "execution_count": 9,
     "metadata": {},
     "output_type": "execute_result"
    }
   ],
   "source": [
    "countries_mean = data_good3.groupby(by='CountryLive').mean()\n",
    "countries_mean['SpentPerMonth'][['United States of America',\n",
    "                            'India', 'United Kingdom',\n",
    "                            'Canada']]"
   ]
  },
  {
   "cell_type": "markdown",
   "metadata": {},
   "source": [
    "It is some what surprising how much India spends compared to the United Kingdom or Canada when looking at the respective countries GDP per capita. You would expect the UK and Canada to spend more. This is something we should look more in depth to."
   ]
  },
  {
   "cell_type": "code",
   "execution_count": 10,
   "metadata": {
    "collapsed": false
   },
   "outputs": [
    {
     "name": "stderr",
     "output_type": "stream",
     "text": [
      "/dataquest/system/env/python3/lib/python3.4/site-packages/seaborn/categorical.py:454: FutureWarning: remove_na is deprecated and is a private function. Do not use.\n",
      "  box_data = remove_na(group_data)\n"
     ]
    },
    {
     "data": {
      "text/plain": [
       "<matplotlib.axes._subplots.AxesSubplot at 0x7f238dbd0710>"
      ]
     },
     "execution_count": 10,
     "metadata": {},
     "output_type": "execute_result"
    },
    {
     "data": {
      "image/png": "[encoded data removed]",
      "text/plain": [
       "<matplotlib.figure.Figure at 0x7f2395a8a5c0>"
      ]
     },
     "metadata": {},
     "output_type": "display_data"
    }
   ],
   "source": [
    "import seaborn as sns\n",
    "\n",
    "only_4 = data_good3[data_good3['CountryLive'].str.contains(\n",
    "    'United States of America|India|United Kingdom|Canada')]\n",
    "sns.boxplot(y = 'SpentPerMonth', x = 'CountryLive',\n",
    "            data = only_4)"
   ]
  },
  {
   "cell_type": "markdown",
   "metadata": {},
   "source": [
    "There seems to be some problems with the data. It shows someone in the United States spends $50,000 per month on learning programming, this might be a mistake. We will remove it and check the graph again."
   ]
  },
  {
   "cell_type": "code",
   "execution_count": 11,
   "metadata": {
    "collapsed": false
   },
   "outputs": [],
   "source": [
    "data_good = data_good3[data_good3['SpentPerMonth'] < 10000]\n"
   ]
  },
  {
   "cell_type": "code",
   "execution_count": 12,
   "metadata": {
    "collapsed": false
   },
   "outputs": [
    {
     "data": {
      "text/plain": [
       "CountryLive\n",
       "United States of America    176.860219\n",
       "India                       119.467205\n",
       "United Kingdom               18.921319\n",
       "Canada                       35.808258\n",
       "Name: SpentPerMonth, dtype: float64"
      ]
     },
     "execution_count": 12,
     "metadata": {},
     "output_type": "execute_result"
    }
   ],
   "source": [
    "countries_mean = data_good.groupby('CountryLive').mean()\n",
    "countries_mean['SpentPerMonth'][['United States of America',\n",
    "                            'India', 'United Kingdom',\n",
    "                            'Canada']]"
   ]
  },
  {
   "cell_type": "code",
   "execution_count": 13,
   "metadata": {
    "collapsed": false
   },
   "outputs": [
    {
     "name": "stderr",
     "output_type": "stream",
     "text": [
      "/dataquest/system/env/python3/lib/python3.4/site-packages/seaborn/categorical.py:454: FutureWarning: remove_na is deprecated and is a private function. Do not use.\n",
      "  box_data = remove_na(group_data)\n"
     ]
    },
    {
     "data": {
      "text/plain": [
       "<matplotlib.axes._subplots.AxesSubplot at 0x7f238d8acbe0>"
      ]
     },
     "execution_count": 13,
     "metadata": {},
     "output_type": "execute_result"
    },
    {
     "data": {
      "image/png": "[encoded data removed]",
      "text/plain": [
       "<matplotlib.figure.Figure at 0x7f2408fc4c50>"
      ]
     },
     "metadata": {},
     "output_type": "display_data"
    }
   ],
   "source": [
    "only_4 = data_good[data_good['CountryLive'].str.contains(\n",
    "    'United States of America|India|United Kingdom|Canada')]\n",
    "sns.boxplot(y = 'SpentPerMonth', x = 'CountryLive',\n",
    "            data = only_4)"
   ]
  },
  {
   "cell_type": "markdown",
   "metadata": {},
   "source": [
    "There are some extreme outliers from India and the US, however it could be due to these people attending multiple bootcamps which could add up to be very expensive. Let take a closer look at the outliers."
   ]
  },
  {
   "cell_type": "code",
   "execution_count": 14,
   "metadata": {
    "collapsed": false
   },
   "outputs": [
    {
     "data": {
      "text/html": [
       "<div>\n",
       "<style scoped>\n",
       "    .dataframe tbody tr th:only-of-type {\n",
       "        vertical-align: middle;\n",
       "    }\n",
       "\n",
       "    .dataframe tbody tr th {\n",
       "        vertical-align: top;\n",
       "    }\n",
       "\n",
       "    .dataframe thead th {\n",
       "        text-align: right;\n",
       "    }\n",
       "</style>\n",
       "<table border=\"1\" class=\"dataframe\">\n",
       "  <thead>\n",
       "    <tr style=\"text-align: right;\">\n",
       "      <th></th>\n",
       "      <th>Age</th>\n",
       "      <th>AttendedBootcamp</th>\n",
       "      <th>BootcampFinish</th>\n",
       "      <th>BootcampLoanYesNo</th>\n",
       "      <th>BootcampName</th>\n",
       "      <th>BootcampRecommend</th>\n",
       "      <th>ChildrenNumber</th>\n",
       "      <th>CityPopulation</th>\n",
       "      <th>CodeEventConferences</th>\n",
       "      <th>CodeEventDjangoGirls</th>\n",
       "      <th>...</th>\n",
       "      <th>YouTubeFunFunFunction</th>\n",
       "      <th>YouTubeGoogleDev</th>\n",
       "      <th>YouTubeLearnCode</th>\n",
       "      <th>YouTubeLevelUpTuts</th>\n",
       "      <th>YouTubeMIT</th>\n",
       "      <th>YouTubeMozillaHacks</th>\n",
       "      <th>YouTubeOther</th>\n",
       "      <th>YouTubeSimplilearn</th>\n",
       "      <th>YouTubeTheNewBoston</th>\n",
       "      <th>SpentPerMonth</th>\n",
       "    </tr>\n",
       "  </thead>\n",
       "  <tbody>\n",
       "    <tr>\n",
       "      <th>1728</th>\n",
       "      <td>24.0</td>\n",
       "      <td>0.0</td>\n",
       "      <td>NaN</td>\n",
       "      <td>NaN</td>\n",
       "      <td>NaN</td>\n",
       "      <td>NaN</td>\n",
       "      <td>NaN</td>\n",
       "      <td>between 100,000 and 1 million</td>\n",
       "      <td>NaN</td>\n",
       "      <td>NaN</td>\n",
       "      <td>...</td>\n",
       "      <td>NaN</td>\n",
       "      <td>NaN</td>\n",
       "      <td>NaN</td>\n",
       "      <td>NaN</td>\n",
       "      <td>NaN</td>\n",
       "      <td>NaN</td>\n",
       "      <td>NaN</td>\n",
       "      <td>NaN</td>\n",
       "      <td>NaN</td>\n",
       "      <td>5000.000000</td>\n",
       "    </tr>\n",
       "    <tr>\n",
       "      <th>1755</th>\n",
       "      <td>20.0</td>\n",
       "      <td>0.0</td>\n",
       "      <td>NaN</td>\n",
       "      <td>NaN</td>\n",
       "      <td>NaN</td>\n",
       "      <td>NaN</td>\n",
       "      <td>NaN</td>\n",
       "      <td>more than 1 million</td>\n",
       "      <td>NaN</td>\n",
       "      <td>NaN</td>\n",
       "      <td>...</td>\n",
       "      <td>NaN</td>\n",
       "      <td>NaN</td>\n",
       "      <td>1.0</td>\n",
       "      <td>NaN</td>\n",
       "      <td>1.0</td>\n",
       "      <td>NaN</td>\n",
       "      <td>NaN</td>\n",
       "      <td>NaN</td>\n",
       "      <td>NaN</td>\n",
       "      <td>3333.333333</td>\n",
       "    </tr>\n",
       "  </tbody>\n",
       "</table>\n",
       "<p>2 rows × 137 columns</p>\n",
       "</div>"
      ],
      "text/plain": [
       "       Age  AttendedBootcamp  BootcampFinish  BootcampLoanYesNo BootcampName  \\\n",
       "1728  24.0               0.0             NaN                NaN          NaN   \n",
       "1755  20.0               0.0             NaN                NaN          NaN   \n",
       "\n",
       "      BootcampRecommend  ChildrenNumber                 CityPopulation  \\\n",
       "1728                NaN             NaN  between 100,000 and 1 million   \n",
       "1755                NaN             NaN            more than 1 million   \n",
       "\n",
       "      CodeEventConferences  CodeEventDjangoGirls      ...        \\\n",
       "1728                   NaN                   NaN      ...         \n",
       "1755                   NaN                   NaN      ...         \n",
       "\n",
       "      YouTubeFunFunFunction  YouTubeGoogleDev  YouTubeLearnCode  \\\n",
       "1728                    NaN               NaN               NaN   \n",
       "1755                    NaN               NaN               1.0   \n",
       "\n",
       "      YouTubeLevelUpTuts  YouTubeMIT  YouTubeMozillaHacks  YouTubeOther  \\\n",
       "1728                 NaN         NaN                  NaN           NaN   \n",
       "1755                 NaN         1.0                  NaN           NaN   \n",
       "\n",
       "      YouTubeSimplilearn  YouTubeTheNewBoston  SpentPerMonth  \n",
       "1728                 NaN                  NaN    5000.000000  \n",
       "1755                 NaN                  NaN    3333.333333  \n",
       "\n",
       "[2 rows x 137 columns]"
      ]
     },
     "execution_count": 14,
     "metadata": {},
     "output_type": "execute_result"
    }
   ],
   "source": [
    "only_4[(only_4['CountryLive'] == 'India') & (only_4['SpentPerMonth'] > 3000)]\n"
   ]
  },
  {
   "cell_type": "markdown",
   "metadata": {},
   "source": [
    "It appears that they did not attend bootcamps, however they could have misinterpret the question and included university tuition, we should remove these two rows and move on."
   ]
  },
  {
   "cell_type": "code",
   "execution_count": 15,
   "metadata": {
    "collapsed": false
   },
   "outputs": [],
   "source": [
    "only_4 = only_4.drop([1728,1755])"
   ]
  },
  {
   "cell_type": "code",
   "execution_count": 16,
   "metadata": {
    "collapsed": false
   },
   "outputs": [
    {
     "data": {
      "text/html": [
       "<div>\n",
       "<style scoped>\n",
       "    .dataframe tbody tr th:only-of-type {\n",
       "        vertical-align: middle;\n",
       "    }\n",
       "\n",
       "    .dataframe tbody tr th {\n",
       "        vertical-align: top;\n",
       "    }\n",
       "\n",
       "    .dataframe thead th {\n",
       "        text-align: right;\n",
       "    }\n",
       "</style>\n",
       "<table border=\"1\" class=\"dataframe\">\n",
       "  <thead>\n",
       "    <tr style=\"text-align: right;\">\n",
       "      <th></th>\n",
       "      <th>Age</th>\n",
       "      <th>AttendedBootcamp</th>\n",
       "      <th>BootcampFinish</th>\n",
       "      <th>BootcampLoanYesNo</th>\n",
       "      <th>BootcampName</th>\n",
       "      <th>BootcampRecommend</th>\n",
       "      <th>ChildrenNumber</th>\n",
       "      <th>CityPopulation</th>\n",
       "      <th>CodeEventConferences</th>\n",
       "      <th>CodeEventDjangoGirls</th>\n",
       "      <th>...</th>\n",
       "      <th>YouTubeFunFunFunction</th>\n",
       "      <th>YouTubeGoogleDev</th>\n",
       "      <th>YouTubeLearnCode</th>\n",
       "      <th>YouTubeLevelUpTuts</th>\n",
       "      <th>YouTubeMIT</th>\n",
       "      <th>YouTubeMozillaHacks</th>\n",
       "      <th>YouTubeOther</th>\n",
       "      <th>YouTubeSimplilearn</th>\n",
       "      <th>YouTubeTheNewBoston</th>\n",
       "      <th>SpentPerMonth</th>\n",
       "    </tr>\n",
       "  </thead>\n",
       "  <tbody>\n",
       "    <tr>\n",
       "      <th>718</th>\n",
       "      <td>26.0</td>\n",
       "      <td>1.0</td>\n",
       "      <td>0.0</td>\n",
       "      <td>0.0</td>\n",
       "      <td>The Coding Boot Camp at UCLA Extension</td>\n",
       "      <td>1.0</td>\n",
       "      <td>NaN</td>\n",
       "      <td>more than 1 million</td>\n",
       "      <td>1.0</td>\n",
       "      <td>NaN</td>\n",
       "      <td>...</td>\n",
       "      <td>NaN</td>\n",
       "      <td>NaN</td>\n",
       "      <td>NaN</td>\n",
       "      <td>NaN</td>\n",
       "      <td>NaN</td>\n",
       "      <td>NaN</td>\n",
       "      <td>NaN</td>\n",
       "      <td>NaN</td>\n",
       "      <td>NaN</td>\n",
       "      <td>8000.0</td>\n",
       "    </tr>\n",
       "    <tr>\n",
       "      <th>1222</th>\n",
       "      <td>32.0</td>\n",
       "      <td>1.0</td>\n",
       "      <td>0.0</td>\n",
       "      <td>0.0</td>\n",
       "      <td>The Iron Yard</td>\n",
       "      <td>1.0</td>\n",
       "      <td>NaN</td>\n",
       "      <td>between 100,000 and 1 million</td>\n",
       "      <td>NaN</td>\n",
       "      <td>NaN</td>\n",
       "      <td>...</td>\n",
       "      <td>NaN</td>\n",
       "      <td>NaN</td>\n",
       "      <td>1.0</td>\n",
       "      <td>NaN</td>\n",
       "      <td>NaN</td>\n",
       "      <td>NaN</td>\n",
       "      <td>NaN</td>\n",
       "      <td>NaN</td>\n",
       "      <td>NaN</td>\n",
       "      <td>6500.0</td>\n",
       "    </tr>\n",
       "  </tbody>\n",
       "</table>\n",
       "<p>2 rows × 137 columns</p>\n",
       "</div>"
      ],
      "text/plain": [
       "       Age  AttendedBootcamp  BootcampFinish  BootcampLoanYesNo  \\\n",
       "718   26.0               1.0             0.0                0.0   \n",
       "1222  32.0               1.0             0.0                0.0   \n",
       "\n",
       "                                BootcampName  BootcampRecommend  \\\n",
       "718   The Coding Boot Camp at UCLA Extension                1.0   \n",
       "1222                           The Iron Yard                1.0   \n",
       "\n",
       "      ChildrenNumber                 CityPopulation  CodeEventConferences  \\\n",
       "718              NaN            more than 1 million                   1.0   \n",
       "1222             NaN  between 100,000 and 1 million                   NaN   \n",
       "\n",
       "      CodeEventDjangoGirls      ...        YouTubeFunFunFunction  \\\n",
       "718                    NaN      ...                          NaN   \n",
       "1222                   NaN      ...                          NaN   \n",
       "\n",
       "      YouTubeGoogleDev  YouTubeLearnCode  YouTubeLevelUpTuts  YouTubeMIT  \\\n",
       "718                NaN               NaN                 NaN         NaN   \n",
       "1222               NaN               1.0                 NaN         NaN   \n",
       "\n",
       "      YouTubeMozillaHacks  YouTubeOther  YouTubeSimplilearn  \\\n",
       "718                   NaN           NaN                 NaN   \n",
       "1222                  NaN           NaN                 NaN   \n",
       "\n",
       "      YouTubeTheNewBoston  SpentPerMonth  \n",
       "718                   NaN         8000.0  \n",
       "1222                  NaN         6500.0  \n",
       "\n",
       "[2 rows x 137 columns]"
      ]
     },
     "execution_count": 16,
     "metadata": {},
     "output_type": "execute_result"
    }
   ],
   "source": [
    "only_4[\n",
    "    (only_4['CountryLive'] == 'United States of America') & \n",
    "    (only_4['SpentPerMonth'] > 6000)]"
   ]
  },
  {
   "cell_type": "markdown",
   "metadata": {},
   "source": [
    "For these two rows, it seems that they did infact attend a bootcamp, however they have yet to complete it. They most likely responded with the full price of the bootcamp and the couple months they have spent programming which threw off the calculation. We will also remove these rows. "
   ]
  },
  {
   "cell_type": "code",
   "execution_count": 17,
   "metadata": {
    "collapsed": false
   },
   "outputs": [],
   "source": [
    "only_4 = only_4.drop([718,1222]) # using the row labels from above\n"
   ]
  },
  {
   "cell_type": "code",
   "execution_count": 20,
   "metadata": {
    "collapsed": false
   },
   "outputs": [
    {
     "data": {
      "text/plain": [
       "CountryLive\n",
       "Canada                       35.808258\n",
       "India                        29.529439\n",
       "United Kingdom               18.921319\n",
       "United States of America    152.427957\n",
       "Name: SpentPerMonth, dtype: float64"
      ]
     },
     "execution_count": 20,
     "metadata": {},
     "output_type": "execute_result"
    }
   ],
   "source": [
    "only_4.groupby('CountryLive').mean()['SpentPerMonth']\n"
   ]
  },
  {
   "cell_type": "code",
   "execution_count": 21,
   "metadata": {
    "collapsed": false
   },
   "outputs": [
    {
     "name": "stderr",
     "output_type": "stream",
     "text": [
      "/dataquest/system/env/python3/lib/python3.4/site-packages/seaborn/categorical.py:454: FutureWarning: remove_na is deprecated and is a private function. Do not use.\n",
      "  box_data = remove_na(group_data)\n"
     ]
    },
    {
     "data": {
      "text/plain": [
       "<matplotlib.axes._subplots.AxesSubplot at 0x7f238d64d9e8>"
      ]
     },
     "execution_count": 21,
     "metadata": {},
     "output_type": "execute_result"
    },
    {
     "data": {
      "image/png": "[encoded data removed]",
      "text/plain": [
       "<matplotlib.figure.Figure at 0x7f238dbc86a0>"
      ]
     },
     "metadata": {},
     "output_type": "display_data"
    }
   ],
   "source": [
    "sns.boxplot(y = 'SpentPerMonth', x = 'CountryLive',\n",
    "            data = only_4)"
   ]
  },
  {
   "cell_type": "markdown",
   "metadata": {},
   "source": [
    "So it apparent that we should advertise in the United States, a place with a lot of people trying to learn to program and are willing to pay. However, which of the three other countries should we advertise in? Based on the frequency chart above, we should advertise in Canada as the mean priced paid is closes to our $59 monthly subscription. However we should figure in the variability of each distribution before making any conclusions."
   ]
  },
  {
   "cell_type": "code",
   "execution_count": 24,
   "metadata": {
    "collapsed": false
   },
   "outputs": [
    {
     "name": "stdout",
     "output_type": "stream",
     "text": [
      "India: 0.23015037592003365\n",
      "Canada: 0.21909241155098425\n",
      "United Kingdom: 0.8967313005116765\n"
     ]
    }
   ],
   "source": [
    "for country in ['India', 'Canada', 'United Kingdom']:\n",
    "    one_country = only_4[only_4['CountryLive'] == country]\n",
    "    mean = one_country['SpentPerMonth'].mean()\n",
    "    st_dev = one_country['SpentPerMonth'].std(ddof = 1)\n",
    "    z = (59 - mean) / st_dev\n",
    "    print(country + ': ' + str(z))"
   ]
  },
  {
   "cell_type": "markdown",
   "metadata": {},
   "source": [
    "Based on the z-score from above, we can remove the United Kingdom from our list of potential areas to advertise in. We are left with India and Canada. Although Canada's z-score is lower, India would have more potential customers. "
   ]
  },
  {
   "cell_type": "code",
   "execution_count": 25,
   "metadata": {
    "collapsed": false
   },
   "outputs": [
    {
     "data": {
      "text/plain": [
       "United States of America    579\n",
       "India                        90\n",
       "United Kingdom               58\n",
       "Canada                       45\n",
       "Name: CountryLive, dtype: int64"
      ]
     },
     "execution_count": 25,
     "metadata": {},
     "output_type": "execute_result"
    }
   ],
   "source": [
    "only_4['CountryLive'].value_counts()\n"
   ]
  },
  {
   "cell_type": "markdown",
   "metadata": {},
   "source": [
    "Given that amount of people from the United States that are willing to pay to learn programming, more of our advertising resources should go towards the US. The question remains however if we should use the remainder to advertise in just India or to advertise in both India and Canada. This is outside the realm of our knowledge, and we should pass on our analysis to a marketing team who can make better use of this knowledge."
   ]
  },
  {
   "cell_type": "markdown",
   "metadata": {},
   "source": [
    "# Conclusion\n",
    "In this project, we concluded that the United States was one of the two countries that we should advertise in given the market size and customer potential to spend. However, we did not find a clear cut answer to the second country we should advertise in, with the top two answers being India and Canada. If possible, we should pass this analysis on to the marketing team and let their expertise make better use of our information."
   ]
  }
 ],
 "metadata": {
  "kernelspec": {
   "display_name": "Python 3",
   "language": "python",
   "name": "python3"
  },
  "language_info": {
   "codemirror_mode": {
    "name": "ipython",
    "version": 3
   },
   "file_extension": ".py",
   "mimetype": "text/x-python",
   "name": "python",
   "nbconvert_exporter": "python",
   "pygments_lexer": "ipython3",
   "version": "3.4.3"
  }
 },
 "nbformat": 4,
 "nbformat_minor": 2
}
